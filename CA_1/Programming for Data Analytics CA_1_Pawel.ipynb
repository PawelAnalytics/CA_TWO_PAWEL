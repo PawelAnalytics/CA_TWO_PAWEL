{
 "cells": [
  {
   "cell_type": "markdown",
   "id": "31ab465a",
   "metadata": {},
   "source": [
    "# Question 1"
   ]
  },
  {
   "cell_type": "code",
   "execution_count": null,
   "id": "162af73f",
   "metadata": {},
   "outputs": [],
   "source": [
    "### Answer true or false:\n",
    "\n",
    "## 1st point ## • type(1) == type(‘1’) = FALSE\n",
    "     #type() method returns class type of the argument(object)passed as parameter in Python.\n",
    "     #Syntax: type(object, bases, dict) \n",
    "        \n",
    "\n",
    "    \n",
    "## 2nd point ## • python program needs to be compiled before running = FALSE\n",
    "     # Python is an interpreted language and not a compiled one\n",
    "    \n",
    "## 3rd point ## • = TRUE + operator works for integers, strings and lists \n",
    "a=2\n",
    "b=5\n",
    "print(a+b)\n",
    "\n",
    "name = \"sample \" + \"for string\"\n",
    "print(name)\n",
    "\n",
    "l1 = [1]\n",
    "l2 = [2, 3]\n",
    "l3 = [4, \"5\", (6, 7)]\n",
    "l1 + l2 + l3\n",
    "[1, 2, 3, 4, '5', (6, 7)]\n",
    "\n",
    "## 4th point ## • = TRUE\n",
    "print(2+True==3)\n",
    "  \n",
    "## 5th point ## • = TRUE\n",
    "1==True \n"
   ]
  },
  {
   "cell_type": "markdown",
   "id": "855ff76c",
   "metadata": {},
   "source": [
    "# Question 2\n",
    "## version 1 \n",
    "## with code super concise, for type guarantees etc."
   ]
  },
  {
   "cell_type": "code",
   "execution_count": null,
   "id": "a3e6cd84",
   "metadata": {},
   "outputs": [],
   "source": [
    "###Question 2\n",
    "#Create variables which take cost price and selling price for an item, write a\n",
    "#program to determine whether the seller has made profit or incurred loss. Also determine\n",
    "#how much profit he made or loss he incurred. "
   ]
  },
  {
   "cell_type": "code",
   "execution_count": null,
   "id": "13a18dd8",
   "metadata": {},
   "outputs": [],
   "source": [
    "cost_price = float(input('Enter Cost Price: '))\n",
    "retail_price  = float(input('Enter Retail Price: '))\n",
    "def loss_profit(cost, revenue):\n",
    "    return cost - revenue\n",
    "print(f'{loss_profit(retail_price,cost_price)} Net Income ')"
   ]
  },
  {
   "cell_type": "markdown",
   "id": "419ef4f4",
   "metadata": {},
   "source": [
    "# Question 2\n",
    "## version 2\n",
    "## with if loop"
   ]
  },
  {
   "cell_type": "code",
   "execution_count": null,
   "id": "c063a542",
   "metadata": {},
   "outputs": [],
   "source": [
    "cost_price = float(input('Enter Cost Price: '))\n",
    "retail_price  = float(input('Enter Retail Price: '))\n",
    "\n",
    "if(cost_price > retail_price):\n",
    "    amount = cost_price - retail_price\n",
    "    print(\"Total Loss Amount = {0}\".format(amount))\n",
    "elif(retail_price > cost_price):\n",
    "    amount = retail_price - cost_price\n",
    "    print(\"Total Profit = {0}\".format(amount))\n",
    "else:\n",
    "    print(\"No Profit No Loss!!!\")\n"
   ]
  },
  {
   "cell_type": "markdown",
   "id": "e263dc5c",
   "metadata": {},
   "source": [
    "# Question 3"
   ]
  },
  {
   "cell_type": "code",
   "execution_count": null,
   "id": "d330bd26",
   "metadata": {},
   "outputs": [],
   "source": [
    "###Question 3. \n",
    "# 1st Jan 2023 is a Sunday. Enter any year and determine what day is the 1st Jan of that year. \n",
    "\n",
    "import calendar \n",
    "import datetime \n",
    "year = input('Enter the year: ')  \n",
    "day = datetime.datetime.strptime('01 01 '+year, '%d %m %Y').weekday() \n",
    "print('First day of the year ' + year + ' is:' ,calendar.day_name[day]) "
   ]
  },
  {
   "cell_type": "markdown",
   "id": "d2ff071d",
   "metadata": {},
   "source": [
    "# Question 4"
   ]
  },
  {
   "cell_type": "code",
   "execution_count": null,
   "id": "4695c84f",
   "metadata": {},
   "outputs": [],
   "source": [
    "###Find the absolute value of a number. (Absolute value of a number is a number without a positive or negative sign.) \n",
    "\n",
    "my_number = -2.6\n",
    "\n",
    "abs_value = abs(my_number)\n",
    "\n",
    "print(abs_value)\n",
    "\n",
    "#under the hood this is a math operation, so if you transfer to a new language and abs() doesn't exist\n",
    "import math\n",
    "print(math.sqrt((my_number)**2))\n",
    "\n",
    "#if math.sqrt not available then, as square root of the square of a number removes the sign (-1**2 =1 , sqrt(1) = 1 )\n",
    "print((my_number**2)**(1/2))\n",
    "\n",
    "#or even\n",
    "my_number = my_number if my_number >= 0 else my_number*-1\n",
    "print(my_number)"
   ]
  },
  {
   "cell_type": "markdown",
   "id": "cb7a72ca",
   "metadata": {},
   "source": [
    "# Question 5"
   ]
  },
  {
   "cell_type": "code",
   "execution_count": null,
   "id": "0233d27a",
   "metadata": {},
   "outputs": [],
   "source": [
    "### 1st Point\n",
    "\n",
    "## Using while loop, write a program to find the value of one number raised to the power of another number.\n",
    "\n",
    "base = int(input(\"Enter the value for base :\"))\n",
    "exponent = int(input(\"Enter the value for exponent :\"))\n",
    "result=1;\n",
    "print(base,\"to power of \",exponent,\"=\",end = ' ')\n",
    "while exponent != 0:\n",
    "    result = base * result\n",
    "    exponent-=1\n",
    "print(result)"
   ]
  },
  {
   "cell_type": "code",
   "execution_count": null,
   "id": "d019bfcf",
   "metadata": {},
   "outputs": [],
   "source": [
    "### 2nd Point\n",
    "## Using exponentiation operator, write a program to find the value of one number raised to the power of another number and check your answer to the previous part.\n",
    "\n",
    "base = int(input(\"Enter the value for base :\"))\n",
    "exponent = int(input(\"Enter the value for exponent :\"))\n",
    "result = base**exponent\n",
    "print('The result is: ' , result)"
   ]
  },
  {
   "cell_type": "markdown",
   "id": "2129d279",
   "metadata": {},
   "source": [
    "# Question 6\n",
    "## Fibonacci Series using Dynamic Programming"
   ]
  },
  {
   "cell_type": "code",
   "execution_count": null,
   "id": "1fbe9d45",
   "metadata": {},
   "outputs": [],
   "source": [
    "#Write a function to obtain the first 25 numbers of a Fibonacci sequence. \n",
    "#In a Fibonacci sequence the sum of two successive terms gives the third term. Following are the \n",
    "#first few terms of the Fibonacci sequence: 1 1 2 3 5 8 13 21 34 55 89... "
   ]
  },
  {
   "cell_type": "code",
   "execution_count": null,
   "id": "f302194e",
   "metadata": {},
   "outputs": [],
   "source": [
    "# Fibonacci Series using Dynamic Programming\n",
    "def fibonacci(n):\n",
    "     \n",
    "    # Taking 1st two fibonacci numbers as 0 and 1\n",
    "    f = [0, 1]\n",
    "     \n",
    "     \n",
    "    for i in range(2, n+1):\n",
    "        f.append(f[i-1] + f[i-2])\n",
    "    return f[n]\n",
    "     \n",
    "print(fibonacci(25))"
   ]
  },
  {
   "cell_type": "markdown",
   "id": "9fb04760",
   "metadata": {},
   "source": [
    "# Question 6\n",
    "## Program to display the Fibonacci sequence up to n-th term"
   ]
  },
  {
   "cell_type": "code",
   "execution_count": null,
   "id": "8ab3f053",
   "metadata": {},
   "outputs": [],
   "source": [
    "# Program to display the Fibonacci sequence up to n-th term\n",
    "\n",
    "nterms = int(input(\"How many terms? \"))\n",
    "\n",
    "# first two terms\n",
    "n1, n2 = 1, 1\n",
    "count = 0\n",
    "\n",
    "# check if the number of terms is valid\n",
    "if nterms <= 0:\n",
    "   print(\"Please enter a positive integer\")\n",
    "# if there is only one term, return n1\n",
    "elif nterms == 1:\n",
    "   print(\"Fibonacci sequence upto\",nterms,\":\")\n",
    "   print(n1)\n",
    "    \n",
    "# generate fibonacci sequence\n",
    "else:\n",
    "   print(\"Fibonacci sequence:\")\n",
    "   while count < nterms:\n",
    "       print(n1)\n",
    "       nth = n1 + n2\n",
    "       # update values\n",
    "       n1 = n2\n",
    "       n2 = nth\n",
    "       count += 1"
   ]
  },
  {
   "cell_type": "markdown",
   "id": "8f79ad5a",
   "metadata": {},
   "source": [
    "# Question 7"
   ]
  },
  {
   "cell_type": "code",
   "execution_count": null,
   "id": "816be050",
   "metadata": {},
   "outputs": [],
   "source": [
    "#Create a list of 100 numbers randomly filled with 0 and 1. \n",
    "\n",
    "import random\n",
    "sample_size=100\n",
    "my_list = [random.randint(0,1) for _ in range(sample_size)]\n",
    "print(my_list)\n",
    "\n",
    "\n",
    "#Find how many times 1 occurs.\n",
    "ele=1\n",
    "x=[i for i in my_list if i==ele]\n",
    "print(\"the element\",ele,\"occurs\",len(x),\"times\")\n",
    "\n",
    "\n",
    "#Also, save the indexes of 1 in another list\n",
    "my_list_of_1s_is = [i for i, n in enumerate(my_list) if n == 1] \n",
    "print(my_list_of_1s_is)"
   ]
  },
  {
   "cell_type": "markdown",
   "id": "4b47fee7",
   "metadata": {},
   "source": [
    "# Question 8"
   ]
  },
  {
   "cell_type": "code",
   "execution_count": null,
   "id": "137d6f09",
   "metadata": {},
   "outputs": [],
   "source": [
    "#Design and implement a class dayType that implements the day of the week in a \n",
    "#program. The class dayType should store the day, such as Sun for Sunday. The program \n",
    "#should be able to perform the following operations on an object of type dayType: "
   ]
  },
  {
   "cell_type": "code",
   "execution_count": null,
   "id": "7af51932",
   "metadata": {},
   "outputs": [],
   "source": [
    "WEEKDAYS = [\n",
    "    \"Sunday\",\n",
    "    \"Monday\",\n",
    "    \"Tuesday\",\n",
    "    \"Wednesday\",\n",
    "    \"Thursday\",\n",
    "    \"Friday\",\n",
    "    \"Saturday\"\n",
    "]\n",
    "\n",
    "class DayType:\n",
    "    def __init__(self, day: str = 'Sunday'):\n",
    "        self.current_day_index = 0\n",
    "        self._set_current_day(day)\n",
    "    \n",
    "    def set_day(self, day: str):\n",
    "        return self._set_current_day(day)\n",
    "    \n",
    "    def get_next_day(self):\n",
    "        next_day_idx = (self.current_day_index + 1) % len(WEEKDAYS)\n",
    "        return WEEKDAYS[next_day_idx]\n",
    "    \n",
    "    def get_previous_day(self):\n",
    "        previous_day_idx = abs(self.current_day_index - 1) % len(WEEKDAYS)\n",
    "        return WEEKDAYS[previous_day_idx]\n",
    "    \n",
    "    def add_days(self, n_days: int):\n",
    "        next_day_idx = (self.current_day_index + n_days) % len(WEEKDAYS)\n",
    "        return self._set_current_day(WEEKDAYS[next_day_idx])\n",
    "    \n",
    "    def _set_current_day(self, day: str):\n",
    "        self.current_day_index = WEEKDAYS.index(day)\n",
    "    \n",
    "    def __repr__(self):\n",
    "        return f\"{WEEKDAYS[self.current_day_index]}\"\n",
    "\n",
    "day = DayType('Tuesday')\n",
    "print(\"Current day:\", day)\n",
    "print(\"Next day:\", day.get_next_day())\n",
    "print(\"Previous day:\", day.get_previous_day())\n",
    "day.add_days(13)\n",
    "print(\"Plus 13 days:\", day)"
   ]
  },
  {
   "cell_type": "markdown",
   "id": "e60120eb",
   "metadata": {},
   "source": [
    "# # Question 8 interactive code"
   ]
  },
  {
   "cell_type": "code",
   "execution_count": null,
   "id": "aff08780",
   "metadata": {},
   "outputs": [],
   "source": [
    "WEEKDAYS = [\n",
    "    \"Sun\",\n",
    "    \"Mon\",\n",
    "    \"Tue\",\n",
    "    \"Wed\",\n",
    "    \"Thu\",\n",
    "    \"Fri\",\n",
    "    \"Sat\"\n",
    "]\n",
    "\n",
    "class DayType:\n",
    "    def __init__(self, day: str = 'Sunday'):\n",
    "        self.current_day_index = 0\n",
    "        self._set_current_day(day)\n",
    "    \n",
    "    def set_day(self, day: str):\n",
    "        return self._set_current_day(day)\n",
    "    \n",
    "    def get_next_day(self):\n",
    "        next_day_idx = (self.current_day_index + 1) % len(WEEKDAYS)\n",
    "        return WEEKDAYS[next_day_idx]\n",
    "    \n",
    "    def get_previous_day(self):\n",
    "        previous_day_idx = abs(self.current_day_index - 1) % len(WEEKDAYS)\n",
    "        return WEEKDAYS[previous_day_idx]\n",
    "    \n",
    "    def add_days(self, n_days: int):\n",
    "        next_day_idx = (self.current_day_index + n_days) % len(WEEKDAYS)\n",
    "        return self._set_current_day(WEEKDAYS[next_day_idx])\n",
    "    \n",
    "    def _set_current_day(self, day: str):\n",
    "        self.current_day_index = WEEKDAYS.index(day)\n",
    "    \n",
    "    def __repr__(self):\n",
    "        return f\"{WEEKDAYS[self.current_day_index]}\"\n",
    "\n",
    "word = \"\"\n",
    "day = DayType('Sun')\n",
    "while word not in [\"q\", \"quit\"]:\n",
    "    print(\"Current day: \", day)\n",
    "    print(\"Menu:\")\n",
    "    print(\"1. Set day\")\n",
    "    print(\"2. Get next day\")\n",
    "    print(\"3. Get previous day\")\n",
    "    print(\"4. Add days\")\n",
    "    print(\"5. Get current day\")\n",
    "    print(\"6. q to quit\")\n",
    "    \n",
    "    word = input(\"What next Amit? \")\n",
    "    if word == \"1\":\n",
    "        new_day = input(\"Enter day: \")\n",
    "        while new_day not in WEEKDAYS:\n",
    "            print(\"Uh oh! Thats not a valid day\")\n",
    "            new_day = input(\"Enter day: \")\n",
    "        day = DayType(new_day)\n",
    "        print(\"Day set to\", day)\n",
    "    elif word == \"2\":\n",
    "        print(day.get_next_day())\n",
    "    elif word == \"3\":\n",
    "        print(day.get_previous_day())\n",
    "    elif word == \"4\":\n",
    "        n_days = \"\"\n",
    "        while not isinstance(n_days, int):\n",
    "            n_days = input(\"How many days to add? \")\n",
    "            try:\n",
    "                n_days = abs(int(n_days))\n",
    "            except Exception:\n",
    "                print(\"Please enter a number\")\n",
    "        day.add_days(n_days)\n",
    "        print(\"Set new day:\", day)\n",
    "    elif word == \"5\":\n",
    "        print(day)\n",
    "    elif word == \"q\":\n",
    "        break\n",
    "    else:\n",
    "        print(\"Wrong choice. Please enter number between 1-5 or 'q' to quit.\")\n",
    "        "
   ]
  },
  {
   "cell_type": "markdown",
   "id": "a474fe0d",
   "metadata": {},
   "source": [
    "# Question 9"
   ]
  },
  {
   "cell_type": "code",
   "execution_count": null,
   "id": "72172aca",
   "metadata": {},
   "outputs": [],
   "source": [
    "#Evaluate the expression \n",
    "# at a = 5, b = −3, c = 2, and d = −4.\n",
    "\n",
    "res = (5**4+-3**4)/(2+-4)\n",
    "# printing result\n",
    "print(\"The evaluated result is : \" + str(res))"
   ]
  }
 ],
 "metadata": {
  "kernelspec": {
   "display_name": "Python 3 (ipykernel)",
   "language": "python",
   "name": "python3"
  },
  "language_info": {
   "codemirror_mode": {
    "name": "ipython",
    "version": 3
   },
   "file_extension": ".py",
   "mimetype": "text/x-python",
   "name": "python",
   "nbconvert_exporter": "python",
   "pygments_lexer": "ipython3",
   "version": "3.9.12"
  }
 },
 "nbformat": 4,
 "nbformat_minor": 5
}
